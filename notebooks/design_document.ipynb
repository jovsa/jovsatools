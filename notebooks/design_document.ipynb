{
 "cells": [
  {
   "cell_type": "code",
   "execution_count": null,
   "metadata": {},
   "outputs": [],
   "source": [
    "# default_exp design_doc"
   ]
  },
  {
   "cell_type": "markdown",
   "metadata": {},
   "source": [
    "# Design Document\n",
    "\n",
    "> outlines the choices, condiderations and tradeoffs made"
   ]
  },
  {
   "cell_type": "markdown",
   "metadata": {},
   "source": [
    "```\n",
    "STATUS: Active development\n",
    "AUTHOR(S): Jovan Sardinha (my_first_name.my_last_name[at]gmail.com)\n",
    "CREATED: 2020-03-19                               \n",
    "UPDATED: 2020-05-25 \n",
    "```"
   ]
  },
  {
   "cell_type": "markdown",
   "metadata": {},
   "source": [
    "## Background\n",
    "\n",
    "### Objective\n",
    "\n",
    "New ideas, concepts and tools are constantly being created. Doing literature reviews and one off experiments for every new problem is painful. Can we create tools that can help the learning process but then be used later to solve related problem?\n",
    "\n",
    "\n",
    "### Motivation\n",
    "\n",
    "> How do you figure out what do you spend your time learning? \n",
    "\n",
    "When learning new concepts and idea, it is easy to glaze over the detials and get a false sense of confidence - but the devil is always in the detials. A lot of new concepts might seem intuitive, however, actually understanding tradeoffs, decision and limits is hard from initial reading. \n",
    "\n",
    "\n",
    "> How to improve the decision making process?\n",
    "\n",
    "When trying to solve a new problem, a lot of ideas come to mind. However there is a lot of friction in prototyping all these alternative ideas. Hence, a lot of shortcuts are taken leading to sub-optimal outcomes in the long run.\n",
    "\n",
    "> Can one auto-catalyze the learning, decision and implimentation process?\n",
    "\n",
    "Having a good aresenal of ideas, improves the quality of decisions. Making better decisions helps create better solutions. Creating better solutions should give hints/ideas what to learn next. "
   ]
  },
  {
   "cell_type": "markdown",
   "metadata": {},
   "source": [
    "## Design\n",
    "\n",
    "Below are the design choices that I made:\n",
    "\n",
    "* Using [nbdev](https://github.com/fastai/nbdev) as a base structure\n",
    "    * ✅ Will use this to get something off the ground. However, will not tie too deeply into this strcuture (if I need to swap this out).\n",
    "    * ✅ Nice literate environment\n",
    "    * ✅ Get PyPI functionality out of the box\n",
    "    * ✅ Get docs functionality out of the box\n",
    "    * ✅ Get unit test functionality out of the box\n",
    "    * ❌ Might need to contribute to nbdev to add functionality\n",
    "        * 🛡 clone an internal verison of nbdev\n",
    "        * 🛡 write all non-supported use case directly in the `lib` folder\n",
    "\n",
    "* Monolithical git repo\n",
    "    * ✅ Will allow for incrementability\n",
    "    * ✅ Will become canonical place with experimentation/learning will happen. This will help with compounding learning/experimentation speed.\n",
    "    * ❌ Will enentually get hard to maintain?\n",
    "        * 🛡 things don't have a lot of deps will eventually fall out/depricate\n",
    "    * ❌ >0 startup time\n",
    "\n",
    "* Lack of structure\n",
    "    * ✅ [Hyrum's Law](https://www.hyrumslaw.com/)\n",
    "    * - hard for others to understand/follow\n",
    "        * 🛡 build tools to show dependency\n",
    "    * ✅ allow for incrementability\n",
    "\n",
    "* [Progressive disclosure of complexity](https://twitter.com/fchollet/status/1231285340335267840)\n",
    "    * ✅ easy to start\n",
    "    * ✅ allow for rough initial ideas to stable APIs to co-exist\n",
    "    * ❌ A lot of extra work needed to trace dependencies\n",
    "        * ️️🛡 build better tools to view dependencies\n",
    "\n",
    "* Multi-language/multi-framework/multi-domain support.\n",
    "    * ✅ This becomes the canonical repo for learning/experimentation.\n",
    "    * ❌ Only python will be used in notebooks (for now and because of nbdev limitation).\n",
    "        * 🛡 write all non-supported use case directly in the `lib` folder.\n",
    "\n",
    "```\n",
    "Legend:\n",
    "✅ suppotive/positive point\n",
    "❌ fault/negative point\n",
    "🛡️ mitagation plan\n",
    "```\n",
    "\n",
    "### Alternatives Considered\n",
    "* Use a collections of notebooks to store ideas\n",
    "\n",
    "\n",
    "### Performance Implications\n",
    "* Single package bloat\n",
    "    * Inefficient when trying to productionize\n",
    "    * Cost to maintain loose ends and brokes paths\n",
    "    \n",
    "\n",
    "### Dependencies\n",
    "A list of all package dependencies are avaiable in the `settings` variable in the `settings.ini` file."
   ]
  },
  {
   "cell_type": "markdown",
   "metadata": {},
   "source": [
    "## Open Ended Questions\n",
    "* Is there a way to track how effective this tool is for\n",
    "    * the learning process\n",
    "        * speed of learning new ideas?\n",
    "        * complexity of ideas being learnt?\n",
    "    * the decision making process\n",
    "        * quality of ideas considered during the decision making process?\n",
    "    * the implimentation proces\n",
    "        * time from concept to final product?\n",
    "        * reliability of solution?"
   ]
  },
  {
   "cell_type": "markdown",
   "metadata": {},
   "source": [
    "## References\n",
    "* [Andy M. Notes](https://notes.andymatuschak.org/) \n",
    "    * Metacognitive supports as cognitive scaffolding\n",
    "        * by contraint and blog by narritive\n",
    "    * [Incremental writing](https://supermemo.guru/wiki/Incremental_writing)\n",
    "    * Notes to APIs\n",
    "    * Exponential growth to learn\n",
    "    * Cross-decipline encouragement\n",
    "* [nbdev](http://nbdev.fast.ai/)\n",
    "* [Deisgn doc template](https://github.com/tensorflow/community/blob/master/rfcs/yyyymmdd-rfc-template.md)"
   ]
  },
  {
   "cell_type": "code",
   "execution_count": null,
   "metadata": {},
   "outputs": [],
   "source": []
  }
 ],
 "metadata": {
  "kernelspec": {
   "display_name": "Python 3.7.7 64-bit ('venv-jsmltools': venv)",
   "language": "python",
   "name": "python37764bitvenvjsmltoolsvenvb053447eee1f4eacb166bf9acb179df8"
  }
 },
 "nbformat": 4,
 "nbformat_minor": 2
}
