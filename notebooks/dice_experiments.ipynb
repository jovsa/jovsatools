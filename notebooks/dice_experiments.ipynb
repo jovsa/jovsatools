{
 "cells": [
  {
   "cell_type": "code",
   "execution_count": null,
   "metadata": {},
   "outputs": [],
   "source": [
    "# default_exp dice_experiments"
   ]
  },
  {
   "cell_type": "markdown",
   "metadata": {},
   "source": [
    "# Dice Experiments\n",
    "\n",
    "> Probability on Dice"
   ]
  },
  {
   "cell_type": "code",
   "execution_count": null,
   "metadata": {},
   "outputs": [],
   "source": [
    "#export\n",
    "from nbdev.showdoc import *\n",
    "import jovsatools\n",
    "import fastcore\n",
    "import numpy as np"
   ]
  },
  {
   "cell_type": "markdown",
   "metadata": {},
   "source": [
    "### Standard Deviation and Expectation"
   ]
  },
  {
   "attachments": {},
   "cell_type": "markdown",
   "metadata": {},
   "source": [
    "Q: If you had a 2 die (one regular and one loaded (as described by the table below)\n",
    "What is the expected value and the standard deviation of each number rolled?\n",
    "\n",
    "For the biased die:\n",
    "\n",
    " * P(1) = 1/12 \n",
    " * P(2) = 1/12 \n",
    " * P(3) = 1/3 \n",
    " * P(4) = 1/3 \n",
    " * P(5) = 1/12 \n",
    " * P(6) = 1/12 \n",
    "  "
   ]
  },
  {
   "cell_type": "code",
   "execution_count": null,
   "metadata": {},
   "outputs": [],
   "source": [
    "fair_die_probs = np.asarray([1/6 for i in range(6)])\n",
    "loaded_die_probs = np.asarray([1/12, 1/12, 1/3, 1/3, 1/12, 1/12])"
   ]
  },
  {
   "cell_type": "code",
   "execution_count": null,
   "metadata": {},
   "outputs": [
    {
     "name": "stdout",
     "output_type": "stream",
     "text": "\n      expected value of fair die: 3.5\n      expected value loaded die:  3.4999999999999996\n      \n========================================\n\n    fair die variences: [1.04166667 0.375      0.04166667 0.04166667 0.375      1.04166667]\n    loaded die variences: [0.52083333 0.1875     0.08333333 0.08333333 0.1875     0.52083333]\n    \n\n========================================\n \nfair die:\n    total varience = 2.9166666666666665\n    total std dev = 1.707825127659933\n\nloaded die:\n    total varience = 1.5833333333333333\n    total std dev = 1.2583057392117916\n\n\n"
    }
   ],
   "source": [
    "###########################\n",
    "# Analytical Calculation \n",
    "###########################\n",
    "\n",
    "# expected value calculations\n",
    "fair_expected_value = np.dot(np.linspace(start=1,stop=6,num=6), fair_die_probs)\n",
    "loaded_expected_value = np.dot(np.linspace(start=1,stop=6,num=6), loaded_die_probs)\n",
    "print(f\"\"\"\n",
    "      expected value of fair die: {fair_expected_value}\n",
    "      expected value loaded die:  {loaded_expected_value}\n",
    "      \"\"\")\n",
    "print(\"=\"*40)\n",
    "# varience calculations; varience = E[(x-mean)^2]\n",
    "loaded_die_variences = ((np.linspace(start=1, stop=6, num=6) - loaded_expected_value)**2) * loaded_die_probs\n",
    "fair_die_variences = ((np.linspace(start=1, stop=6, num=6) - fair_expected_value)**2) * fair_die_probs\n",
    "\n",
    "print(f\"\"\"\n",
    "    fair die variences: {fair_die_variences}\n",
    "    loaded die variences: {loaded_die_variences}\n",
    "    \n",
    "\"\"\")\n",
    "\n",
    "print(\"=\"*40)\n",
    "print(f\"\"\" \n",
    "fair die:\n",
    "    total varience = {np.sum(fair_die_variences)}\n",
    "    total std dev = {np.sum(fair_die_variences)**0.5}\n",
    "\n",
    "loaded die:\n",
    "    total varience = {np.sum(loaded_die_variences)}\n",
    "    total std dev = {np.sum(loaded_die_variences)**0.5}\n",
    "\n",
    "\"\"\")"
   ]
  },
  {
   "cell_type": "code",
   "execution_count": null,
   "metadata": {},
   "outputs": [],
   "source": [
    "###########################\n",
    "# Emperical Calculation \n",
    "###########################\n",
    "NUM_TRIALS = 1_000_000\n",
    "fair_emp_varience = np.std(np.random.choice(np.linspace(start=1,stop=6,num=6), p=fair_die_probs, size=NUM_TRIALS))**2\n",
    "loaded_emp_varience = np.std(np.random.choice(np.linspace(start=1,stop=6,num=6), p=loaded_die_probs, size=NUM_TRIALS))**2"
   ]
  },
  {
   "cell_type": "code",
   "execution_count": null,
   "metadata": {},
   "outputs": [],
   "source": [
    "# checksum\n",
    "epsilon = 1e-2\n",
    "assert np.sum(fair_die_variences)-fair_emp_varience < epsilon\n",
    "assert np.sum(loaded_die_variences)-loaded_emp_varience < epsilon"
   ]
  },
  {
   "cell_type": "code",
   "execution_count": null,
   "metadata": {},
   "outputs": [],
   "source": []
  }
 ],
 "metadata": {
  "kernelspec": {
   "display_name": "Python 3",
   "language": "python",
   "name": "python3"
  }
 },
 "nbformat": 4,
 "nbformat_minor": 2
}
