{
 "cells": [
  {
   "cell_type": "code",
   "execution_count": null,
   "metadata": {},
   "outputs": [],
   "source": [
    "# default_exp factory_defect_statistics"
   ]
  },
  {
   "cell_type": "markdown",
   "metadata": {},
   "source": [
    "# Factory Defect Statistics"
   ]
  },
  {
   "cell_type": "code",
   "execution_count": null,
   "metadata": {},
   "outputs": [],
   "source": [
    "#export\n",
    "from nbdev.showdoc import *\n",
    "import jovsatools\n",
    "import fastcore\n",
    "import numpy as np\n",
    "import scipy as sp\n",
    "from collections import defaultdict"
   ]
  },
  {
   "cell_type": "markdown",
   "metadata": {},
   "source": [
    "### Question"
   ]
  },
  {
   "cell_type": "markdown",
   "metadata": {},
   "source": [
    "There are 2 factories producing tablets: one produces tablets with probability of defect 20%,  another with probability of defect 80%\n",
    "\n",
    "We have ordered single shipment having 2 tablets and received the entire shipment from the factory chosen evenly.\n",
    "\n",
    "We opened the first tablet and it has a defect,  what is the probability that the second tablet having defect as well ?"
   ]
  },
  {
   "cell_type": "markdown",
   "metadata": {},
   "source": [
    "**Assumptions**: \n",
    "* Factory defects are independent and can be sampled without replacement"
   ]
  },
  {
   "cell_type": "markdown",
   "metadata": {},
   "source": [
    "## Statistical Approach"
   ]
  },
  {
   "cell_type": "code",
   "execution_count": null,
   "metadata": {},
   "outputs": [
    {
     "name": "stdout",
     "output_type": "stream",
     "text": [
      "\n"
     ]
    }
   ],
   "source": [
    "\"\"\"\n",
    "ans = 0.5 * case 1 + 0.5* case_2\n",
    "\n",
    "s.t: \n",
    "    case 1 [factory 1] = P(exactly 2 defects from factory 1) = P(<=2 defects) - P(<= 1 defect)\n",
    "    case 2 [factory 2] = P(exactly 2 defects from factory 1) = P(<=2 defects) - P(<= 1 defect)\n",
    "\n",
    "\"\"\"\n",
    "print()"
   ]
  },
  {
   "cell_type": "code",
   "execution_count": null,
   "metadata": {},
   "outputs": [
    {
     "name": "stdout",
     "output_type": "stream",
     "text": [
      "case_1: 0.04000000000000001\n",
      "case_2: 0.64\n",
      "ans:0.34\n"
     ]
    }
   ],
   "source": [
    "case_1 = sp.stats.binom.pmf(k=2, n=2, p=0.2)\n",
    "print(f\"case_1: {case_1}\")\n",
    "\n",
    "case_2 = sp.stats.binom.pmf(k=2, n=2, p=0.8)\n",
    "print(f\"case_2: {case_2}\")\n",
    "\n",
    "ans = 0.5*case_1 + 0.5*case_2\n",
    "print(f\"ans:{ans}\")"
   ]
  },
  {
   "cell_type": "markdown",
   "metadata": {},
   "source": [
    "### Numerical Approach"
   ]
  },
  {
   "cell_type": "code",
   "execution_count": null,
   "metadata": {},
   "outputs": [],
   "source": [
    "class Simulator:\n",
    "    def __init__(self):\n",
    "        np.random.seed(1123)\n",
    "        self.factory_defect_rate = {\n",
    "            0: 0.2,\n",
    "            1: 0.8,\n",
    "        }\n",
    "        self.stats = defaultdict(int)\n",
    "    \n",
    "    def choose_factory(self):\n",
    "        return np.random.randint(2, size=1)[0]\n",
    "    \n",
    "    def is_defect(self, factory):\n",
    "        defect_rate = self.factory_defect_rate[factory]\n",
    "        x = np.random.random()\n",
    "        if x <= defect_rate:\n",
    "            return True\n",
    "        else:\n",
    "            return False\n",
    "    \n",
    "    def produce_shipment(self, shipment_size=2):\n",
    "        factory = self.choose_factory()\n",
    "        res = []\n",
    "        for item in range(shipment_size):\n",
    "            is_defect = self.is_defect(factory)\n",
    "            res.append(is_defect)\n",
    "            if is_defect: \n",
    "                # (factory, item, is_defective)\n",
    "                self.stats[(factory, item, 1)] += 1\n",
    "\n",
    "            else:\n",
    "                # (factory, item, defective)\n",
    "                self.stats[(factory, item, 0)] += 1\n",
    "            \n",
    "        # case when both tablets are defective\n",
    "        if res == [True,True]:\n",
    "            self.stats[(factory, 'match')] += 1\n",
    "    \n",
    "    def run(self, trials):\n",
    "        for trial in range(trials):\n",
    "            self.produce_shipment()\n",
    "        self.stats['trials'] = trials"
   ]
  },
  {
   "cell_type": "code",
   "execution_count": null,
   "metadata": {},
   "outputs": [
    {
     "name": "stdout",
     "output_type": "stream",
     "text": [
      "ans:0.3359\n"
     ]
    }
   ],
   "source": [
    "simulator = Simulator()\n",
    "simulator.run(trials=10000)\n",
    "ans = (simulator.stats[(0, 'match')] + simulator.stats[(1, 'match')])/simulator.stats['trials']\n",
    "print(f\"ans:{ans}\")"
   ]
  },
  {
   "cell_type": "markdown",
   "metadata": {},
   "source": [
    "### Jovan's Debugging"
   ]
  },
  {
   "cell_type": "code",
   "execution_count": null,
   "metadata": {},
   "outputs": [
    {
     "data": {
      "text/plain": [
       "defaultdict(int,\n",
       "            {(0, 0, 0): 4019,\n",
       "             (0, 1, 1): 1013,\n",
       "             (0, 0, 1): 981,\n",
       "             (0, 1, 0): 3987,\n",
       "             (1, 0, 1): 3992,\n",
       "             (1, 1, 1): 3985,\n",
       "             (1, 'match'): 3160,\n",
       "             (1, 0, 0): 1008,\n",
       "             (1, 1, 0): 1015,\n",
       "             (0, 'match'): 199,\n",
       "             'trials': 10000})"
      ]
     },
     "execution_count": null,
     "metadata": {},
     "output_type": "execute_result"
    }
   ],
   "source": [
    "simulator.stats"
   ]
  },
  {
   "cell_type": "code",
   "execution_count": null,
   "metadata": {},
   "outputs": [
    {
     "data": {
      "text/plain": [
       "\"\\n{(0, 0, 0): 4074,\\n (0, 0, 1): 1013,\\n (0, 1, 0): 4070,\\n (0, 1, 1): 1017,\\n \\n\\n (1, 0, 0): 1008,\\n (1, 0, 1): 3905,\\n (1, 1, 0): 966,\\n (1, 1, 1): 3947,\\n\\n 'trials': 10000})\\n\\n\""
      ]
     },
     "execution_count": null,
     "metadata": {},
     "output_type": "execute_result"
    }
   ],
   "source": [
    "\"\"\"\n",
    "{(0, 0, 0): 4074,\n",
    " (0, 0, 1): 1013,\n",
    " (0, 1, 0): 4070,\n",
    " (0, 1, 1): 1017,\n",
    " \n",
    "\n",
    " (1, 0, 0): 1008,\n",
    " (1, 0, 1): 3905,\n",
    " (1, 1, 0): 966,\n",
    " (1, 1, 1): 3947,\n",
    "\n",
    " 'trials': 10000})\n",
    "\n",
    "\"\"\""
   ]
  },
  {
   "cell_type": "code",
   "execution_count": null,
   "metadata": {},
   "outputs": [],
   "source": []
  }
 ],
 "metadata": {
  "kernelspec": {
   "display_name": "Python 3",
   "language": "python",
   "name": "python3"
  }
 },
 "nbformat": 4,
 "nbformat_minor": 2
}
