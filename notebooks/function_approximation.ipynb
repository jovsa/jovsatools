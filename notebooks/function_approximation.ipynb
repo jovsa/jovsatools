{
 "cells": [
  {
   "cell_type": "code",
   "execution_count": null,
   "metadata": {},
   "outputs": [],
   "source": [
    "# default_exp function_approximation"
   ]
  },
  {
   "cell_type": "markdown",
   "metadata": {},
   "source": [
    "# Function Approximation\n",
    "\n",
    "> function approximation playground\n",
    "\n",
    "`Go to Runtime -> Change runtime type and make sure Hardward accelerator is set to GPU`"
   ]
  },
  {
   "cell_type": "code",
   "execution_count": null,
   "metadata": {},
   "outputs": [],
   "source": [
    "# export\n",
    "from abc import ABC, abstractmethod\n",
    "from fastcore.test import *\n",
    "import jsmltools\n",
    "from jsmltools import data_generator\n",
    "from nbdev.showdoc import *\n",
    "import numpy as np\n",
    "import tensorflow as tf\n",
    "from tensorflow import keras\n",
    "from tensorflow.keras.layers.experimental.preprocessing import Rescaling\n",
    "\n",
    "test_eq(tf.__version__, \"2.2.0\")"
   ]
  },
  {
   "cell_type": "code",
   "execution_count": null,
   "metadata": {},
   "outputs": [],
   "source": [
    "# export\n",
    "\n",
    "class KerasPipeline(ABC):\n",
    "    \"\"\"Scafolding for a tf.keras model building pipeline.\n",
    "    \n",
    "    This base class will contain scafolding for all pipelines\n",
    "    used. The goal of this base class is mainly to add safeguard\n",
    "    and assumption enforcement.\n",
    "    \"\"\"\n",
    "    def __init__(self):\n",
    "        # safe guard: to ensure that various session don't collide\n",
    "        keras.backend.clear_session()\n",
    "        self.train_x, self.train_y, self.test_x, self.test_y = None, None, None, None\n",
    "        self.model = None\n",
    "        self.evaluation = None\n",
    "        self.train_history = None\n",
    "    \n",
    "    @abstractmethod\n",
    "    def get_data(self):\n",
    "        pass\n",
    "\n",
    "    @abstractmethod\n",
    "    def build_model(self):\n",
    "        pass\n",
    "    \n",
    "    @abstractmethod\n",
    "    def run_training(self):\n",
    "        pass\n",
    "    \n",
    "    @abstractmethod\n",
    "    def evaluate_pipeline(self):\n",
    "        pass\n",
    "    \n",
    "    def plot_model_shapes(self, show_shapes=True, show_layer_names=True):\n",
    "        return keras.utils.plot_model(self.model, \n",
    "                                      show_shapes=show_shapes, \n",
    "                                      show_layer_names=show_layer_names)\n",
    "\n",
    "    def keras_model_summary(self):\n",
    "        return self.model.summary()\n",
    "        \n",
    "    def __call__(self, verbose=0):\n",
    "        ########################################\n",
    "        # step 1: get data \n",
    "        ########################################\n",
    "        self.get_data()\n",
    "        # checking that self.get_data() is implimented as expected\n",
    "        assert list(\n",
    "            map(lambda x: x is not None, [self.train_x, self.train_y, self.test_x, self.test_y])\n",
    "            )  == [True] * 4 \n",
    "\n",
    "        ########################################\n",
    "        # step 2: build model\n",
    "        ########################################\n",
    "        self.build_model()\n",
    "        # checking that self.model() is implimented as expected\n",
    "        assert self.model is not None\n",
    "        \n",
    "        ########################################\n",
    "        # step 3: train model\n",
    "        ########################################        \n",
    "        print(\"\\n\", \"=-=\"*10, \"MODEL TRAINING\", \"=-=\"*10, \"\\n\")\n",
    "        self.run_training(verbose)\n",
    "        # checking that self.train() is implimented as expected\n",
    "        assert self.train_history is not None\n",
    "        assert self.model._is_compiled == True\n",
    "\n",
    "        if verbose > 0:\n",
    "            print(\"\\n\", \"=-=\"*10, \"MODEL SUMMARY\", \"=-=\"*10, \"\\n\")\n",
    "            self.keras_model_summary()\n",
    "\n",
    "        ########################################\n",
    "        # step 4: evaluate pipeline\n",
    "        ########################################\n",
    "        print(\"\\n\", \"=-=\"*10, \"PIPELINE EVALUATION\", \"=-=\"*10, \"\\n\")\n",
    "        self.evaluate_pipeline()\n",
    "        # checking that self.evaluate() is implimented as expected\n",
    "        assert self.evaluation is not None\n",
    "    \n",
    "        # TODO (jovsa): run tests that ensure pipeline trains model above a benchmark"
   ]
  },
  {
   "cell_type": "markdown",
   "metadata": {},
   "source": [
    "### Using High Level APIs"
   ]
  },
  {
   "cell_type": "markdown",
   "metadata": {},
   "source": [
    "#### Using tf.keras Functional API"
   ]
  },
  {
   "cell_type": "code",
   "execution_count": null,
   "metadata": {},
   "outputs": [],
   "source": [
    "#export\n",
    "class HighLevelKerasPipeline(KerasPipeline):\n",
    "    def __init__(self, sample_n, additional_y):\n",
    "        self.sample_n = sample_n\n",
    "        self.additional_y = additional_y\n",
    "        super().__init__()\n",
    "    \n",
    "    def get_data(self):\n",
    "        data = data_generator.MNISTDataGenerator(self.additional_y)\n",
    "        datasets  = data(self.sample_n)\n",
    "        self.train_x, self.train_y, self.test_x, self.test_y = datasets\n",
    "\n",
    "    def build_model(self):\n",
    "        inputs = keras.Input(shape=(784, 1), name=\"inputs\")\n",
    "        # Rescale images to [0, 1]\n",
    "        x = Rescaling(scale=1./255)(inputs)\n",
    "        x = keras.layers.Flatten()(x)\n",
    "        x = keras.layers.Dense(units=64, activation='relu')(x)\n",
    "        output = keras.layers.Dense(units=10, activation='softmax', name=\"output\")(x)\n",
    "\n",
    "        self.model = keras.Model(inputs=inputs, outputs=output)\n",
    "\n",
    "    def run_training(self, verbose):\n",
    "        self.model.compile(\n",
    "            optimizer=keras.optimizers.RMSprop(learning_rate=1e-3),\n",
    "            loss=keras.losses.SparseCategoricalCrossentropy(),\n",
    "            metrics=[keras.metrics.SparseCategoricalAccuracy()])\n",
    "        \n",
    "        self.train_history = self.model.fit(\n",
    "            x=self.train_x, y=self.train_y, epochs=10, batch_size=64, \n",
    "            verbose=verbose, validation_split=0.1)\n",
    "\n",
    "    def evaluate_pipeline(self):\n",
    "        self.evaluation = self.model.evaluate(x=self.test_x, y=self.test_y)"
   ]
  },
  {
   "cell_type": "code",
   "execution_count": null,
   "metadata": {},
   "outputs": [
    {
     "name": "stdout",
     "output_type": "stream",
     "text": "\n =-==-==-==-==-==-==-==-==-==-= MODEL TRAINING =-==-==-==-==-==-==-==-==-==-= \n\nEpoch 1/10\n15/15 - 0s - loss: 1.7364 - sparse_categorical_accuracy: 0.5356 - val_loss: 1.2985 - val_sparse_categorical_accuracy: 0.7200\nEpoch 2/10\n15/15 - 0s - loss: 1.0058 - sparse_categorical_accuracy: 0.8022 - val_loss: 0.9928 - val_sparse_categorical_accuracy: 0.7400\nEpoch 3/10\n15/15 - 0s - loss: 0.7247 - sparse_categorical_accuracy: 0.8278 - val_loss: 0.8337 - val_sparse_categorical_accuracy: 0.7600\nEpoch 4/10\n15/15 - 0s - loss: 0.5730 - sparse_categorical_accuracy: 0.8567 - val_loss: 0.7695 - val_sparse_categorical_accuracy: 0.8000\nEpoch 5/10\n15/15 - 0s - loss: 0.4787 - sparse_categorical_accuracy: 0.8878 - val_loss: 0.6419 - val_sparse_categorical_accuracy: 0.8600\nEpoch 6/10\n15/15 - 0s - loss: 0.4047 - sparse_categorical_accuracy: 0.8956 - val_loss: 0.5553 - val_sparse_categorical_accuracy: 0.8800\nEpoch 7/10\n15/15 - 0s - loss: 0.3539 - sparse_categorical_accuracy: 0.9156 - val_loss: 0.5077 - val_sparse_categorical_accuracy: 0.8900\nEpoch 8/10\n15/15 - 0s - loss: 0.3043 - sparse_categorical_accuracy: 0.9322 - val_loss: 0.5033 - val_sparse_categorical_accuracy: 0.8600\nEpoch 9/10\n15/15 - 0s - loss: 0.2752 - sparse_categorical_accuracy: 0.9267 - val_loss: 0.4645 - val_sparse_categorical_accuracy: 0.8900\nEpoch 10/10\n15/15 - 0s - loss: 0.2423 - sparse_categorical_accuracy: 0.9467 - val_loss: 0.4296 - val_sparse_categorical_accuracy: 0.9200\n\n =-==-==-==-==-==-==-==-==-==-= MODEL SUMMARY =-==-==-==-==-==-==-==-==-==-= \n\nModel: \"model\"\n_________________________________________________________________\nLayer (type)                 Output Shape              Param #   \n=================================================================\ninputs (InputLayer)          [(None, 784, 1)]          0         \n_________________________________________________________________\nrescaling (Rescaling)        (None, 784, 1)            0         \n_________________________________________________________________\nflatten (Flatten)            (None, 784)               0         \n_________________________________________________________________\ndense (Dense)                (None, 64)                50240     \n_________________________________________________________________\noutput (Dense)               (None, 10)                650       \n=================================================================\nTotal params: 50,890\nTrainable params: 50,890\nNon-trainable params: 0\n_________________________________________________________________\n\n =-==-==-==-==-==-==-==-==-==-= PIPELINE EVALUATION =-==-==-==-==-==-==-==-==-==-= \n\n313/313 [==============================] - 0s 888us/step - loss: 0.4585 - sparse_categorical_accuracy: 0.8587\n"
    }
   ],
   "source": [
    "# single target pipeline\n",
    "single_target_pipeline = HighLevelKerasPipeline(sample_n=1000, additional_y=0)\n",
    "single_target_pipeline(verbose=2)"
   ]
  },
  {
   "cell_type": "code",
   "execution_count": null,
   "metadata": {},
   "outputs": [],
   "source": [
    "#single_target_pipeline.plot_model_shapes()"
   ]
  },
  {
   "cell_type": "markdown",
   "metadata": {},
   "source": [
    "## References\n",
    "* [Keras for Engineers](https://colab.research.google.com/drive/1lWUGZarlbORaHYUZlF9muCgpPl8pEvve)\n",
    "* [Keras for Researchers](https://colab.research.google.com/drive/169PfzM0kvtA5UP4k6Sl1yCG9tsE2MLia#scrollTo=4T2NXVLa9Cld)"
   ]
  },
  {
   "cell_type": "code",
   "execution_count": null,
   "metadata": {},
   "outputs": [],
   "source": []
  }
 ],
 "metadata": {
  "kernelspec": {
   "display_name": "Python 3.7.7 64-bit ('venv-jsmltools': venv)",
   "language": "python",
   "name": "python37764bitvenvjsmltoolsvenvb053447eee1f4eacb166bf9acb179df8"
  }
 },
 "nbformat": 4,
 "nbformat_minor": 2
}
