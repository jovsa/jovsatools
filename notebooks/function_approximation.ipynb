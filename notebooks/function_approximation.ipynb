{
 "cells": [
  {
   "cell_type": "code",
   "execution_count": null,
   "metadata": {},
   "outputs": [],
   "source": [
    "# default_exp function_approximation"
   ]
  },
  {
   "cell_type": "markdown",
   "metadata": {},
   "source": [
    "# Function Approximation\n",
    "\n",
    "> function approximation playground\n",
    "\n",
    "`Go to Runtime -> Change runtime type and make sure Hardward accelerator is set to GPU`"
   ]
  },
  {
   "cell_type": "code",
   "execution_count": null,
   "metadata": {},
   "outputs": [],
   "source": [
    "# export\n",
    "from abc import ABC, abstractmethod\n",
    "from fastcore.test import *\n",
    "import jsmltools\n",
    "from jsmltools import data_generator\n",
    "from nbdev.showdoc import *\n",
    "import numpy as np\n",
    "import tensorflow as tf\n",
    "from tensorflow import keras\n",
    "from tensorflow.keras.layers.experimental.preprocessing import Rescaling\n",
    "\n",
    "test_eq(tf.__version__, \"2.2.0\")"
   ]
  },
  {
   "cell_type": "code",
   "execution_count": null,
   "metadata": {},
   "outputs": [],
   "source": [
    "# export\n",
    "\n",
    "class KerasPipeline(ABC):\n",
    "    '''Scafolding for a model building pipeline.\n",
    "    \n",
    "    This base class will contain scafolding for all pipelines\n",
    "    used. The goal of this base class is mainly to add safeguard\n",
    "    and assumption enforcement.\n",
    "    '''\n",
    "    def __init__(self):\n",
    "        # safe guard: to ensure that various session don't collide\n",
    "        keras.backend.clear_session()\n",
    "        self.train_x, self.train_y, self.test_x, self.test_y = None, None, None, None\n",
    "        self.model = None\n",
    "        self.evaluation = None\n",
    "        self.train_history = None\n",
    "    \n",
    "    @abstractmethod\n",
    "    def get_data(self):\n",
    "        pass\n",
    "\n",
    "    @abstractmethod\n",
    "    def build_model(self):\n",
    "        pass\n",
    "    \n",
    "    @abstractmethod\n",
    "    def run_training(self):\n",
    "        pass\n",
    "    \n",
    "    @abstractmethod\n",
    "    def evaluate_pipeline(self):\n",
    "        pass\n",
    "    \n",
    "    def keras_model_summary(self):\n",
    "        assert self.model is not None\n",
    "        return self.model.summary()\n",
    "    \n",
    "    @abstractmethod    \n",
    "    def __call__(self):\n",
    "        # checking that self.get_data() is implimented as expected\n",
    "        assert list(map(lambda x: x is not None, [self.train_x, self.train_y, self.test_x, self.test_y]))  == [True] * 4 \n",
    "\n",
    "        # checking that self.model() is implimented as expected\n",
    "        assert self.model is not None\n",
    "\n",
    "        # checking that self.train() is implimented as expected\n",
    "        assert self.train_history is not None\n",
    "        assert self.model._is_compiled == True\n",
    "\n",
    "        # checking that self.evaluate() is implimented as expected\n",
    "        assert self.evaluation is not None\n",
    "\n",
    "        # TODO (jovsa): run tests that ensure pipeline trains model above a benchmark\n",
    "        "
   ]
  },
  {
   "cell_type": "markdown",
   "metadata": {},
   "source": [
    "### Using High Level APIs"
   ]
  },
  {
   "cell_type": "markdown",
   "metadata": {},
   "source": [
    "#### Using tf.keras Functional API"
   ]
  },
  {
   "cell_type": "code",
   "execution_count": null,
   "metadata": {},
   "outputs": [],
   "source": [
    "#export\n",
    "class CustomLoss(keras.losses.Loss):\n",
    "        def __init__(self, **kwargs):\n",
    "            super().__init__(**kwargs)\n",
    "        \n",
    "        def call(self, y_true, y_pred):\n",
    "            pass\n",
    "        \n",
    "        def get_config(self):\n",
    "            pass\n",
    "\n",
    "class CustomMetrics(keras.metrics.Metric):\n",
    "    def __init__(self, **kwargs):\n",
    "        super().__init__(**kwargs)\n",
    "\n",
    "    def update_state(self, y_true, y_pred, sample_weight=None):\n",
    "        pass\n",
    "    \n",
    "    def result(self):\n",
    "        pass\n",
    "    \n",
    "    def get_config(self):\n",
    "        pass\n",
    "\n",
    "\n",
    "class HighLevelPipeline(KerasPipeline):\n",
    "    def __init__(self):\n",
    "        super().__init__()\n",
    "    \n",
    "    def get_data(self):\n",
    "        additional_y, train_n = 0, 1000\n",
    "        data = data_generator.MNISTDataGenerator(additional_y)\n",
    "        datasets  = data(train_n)\n",
    "        self.train_x, self.train_y, self.test_x, self.test_y = datasets\n",
    "\n",
    "    def build_model(self):\n",
    "        inputs = keras.Input(shape=(784, 1))\n",
    "        # Rescale images to [0, 1]\n",
    "        x = Rescaling(scale=1./255)(inputs)\n",
    "        x = keras.layers.Flatten()(x)\n",
    "        x = keras.layers.Dense(units=128, activation='relu')(x)\n",
    "        x = keras.layers.Dense(units=128, activation='relu')(x)\n",
    "        outputs = keras.layers.Dense(units=10, activation='softmax')(x)\n",
    "\n",
    "        self.model = keras.Model(inputs=inputs, outputs=outputs)\n",
    "\n",
    "    def run_training(self):\n",
    "        self.model.compile(\n",
    "            optimizer=keras.optimizers.RMSprop(learning_rate=1e-3),\n",
    "            loss=keras.losses.SparseCategoricalCrossentropy(),\n",
    "            metrics=[keras.metrics.SparseCategoricalAccuracy()])\n",
    "        \n",
    "        self.train_history = self.model.fit(\n",
    "            x=self.train_x, y=self.train_y, epochs=10, batch_size=64, \n",
    "            verbose=1, validation_split=0.1)\n",
    "\n",
    "    def evaluate_pipeline(self):\n",
    "        self.evaluation = self.model.evaluate(x=self.test_x, y=self.test_y)\n",
    "        print(self.evaluation)\n",
    "    \n",
    "    def __call__(self):\n",
    "        self.get_data()\n",
    "        self.build_model()\n",
    "        self.run_training()\n",
    "        print(self.keras_model_summary())\n",
    "        self.evaluate_pipeline()\n",
    "        super().__call__()"
   ]
  },
  {
   "cell_type": "code",
   "execution_count": null,
   "metadata": {},
   "outputs": [
    {
     "name": "stdout",
     "output_type": "stream",
     "text": "Epoch 1/10\n15/15 [==============================] - 0s 13ms/step - loss: 1.4809 - sparse_categorical_accuracy: 0.5722 - val_loss: 1.0457 - val_sparse_categorical_accuracy: 0.6200\nEpoch 2/10\n15/15 [==============================] - 0s 3ms/step - loss: 0.6912 - sparse_categorical_accuracy: 0.8189 - val_loss: 0.9689 - val_sparse_categorical_accuracy: 0.6600\nEpoch 3/10\n15/15 [==============================] - 0s 3ms/step - loss: 0.4773 - sparse_categorical_accuracy: 0.8722 - val_loss: 0.5805 - val_sparse_categorical_accuracy: 0.8400\nEpoch 4/10\n15/15 [==============================] - 0s 4ms/step - loss: 0.3518 - sparse_categorical_accuracy: 0.9089 - val_loss: 0.5024 - val_sparse_categorical_accuracy: 0.8600\nEpoch 5/10\n15/15 [==============================] - 0s 4ms/step - loss: 0.2711 - sparse_categorical_accuracy: 0.9278 - val_loss: 0.6103 - val_sparse_categorical_accuracy: 0.8300\nEpoch 6/10\n15/15 [==============================] - 0s 3ms/step - loss: 0.2337 - sparse_categorical_accuracy: 0.9356 - val_loss: 0.4339 - val_sparse_categorical_accuracy: 0.9000\nEpoch 7/10\n15/15 [==============================] - 0s 4ms/step - loss: 0.1680 - sparse_categorical_accuracy: 0.9611 - val_loss: 0.4834 - val_sparse_categorical_accuracy: 0.8900\nEpoch 8/10\n15/15 [==============================] - 0s 3ms/step - loss: 0.1353 - sparse_categorical_accuracy: 0.9678 - val_loss: 0.6425 - val_sparse_categorical_accuracy: 0.8300\nEpoch 9/10\n15/15 [==============================] - 0s 3ms/step - loss: 0.1228 - sparse_categorical_accuracy: 0.9744 - val_loss: 0.5031 - val_sparse_categorical_accuracy: 0.8800\nEpoch 10/10\n15/15 [==============================] - 0s 4ms/step - loss: 0.0873 - sparse_categorical_accuracy: 0.9789 - val_loss: 0.5163 - val_sparse_categorical_accuracy: 0.8600\nModel: \"model\"\n_________________________________________________________________\nLayer (type)                 Output Shape              Param #   \n=================================================================\ninput_1 (InputLayer)         [(None, 784, 1)]          0         \n_________________________________________________________________\nrescaling (Rescaling)        (None, 784, 1)            0         \n_________________________________________________________________\nflatten (Flatten)            (None, 784)               0         \n_________________________________________________________________\ndense (Dense)                (None, 128)               100480    \n_________________________________________________________________\ndense_1 (Dense)              (None, 128)               16512     \n_________________________________________________________________\ndense_2 (Dense)              (None, 10)                1290      \n=================================================================\nTotal params: 118,282\nTrainable params: 118,282\nNon-trainable params: 0\n_________________________________________________________________\nNone\n313/313 [==============================] - 0s 933us/step - loss: 0.5166 - sparse_categorical_accuracy: 0.8504\n[0.5166111588478088, 0.8503999710083008]\n"
    }
   ],
   "source": [
    "pipeline_1 = HighLevelPipeline()\n",
    "pipeline_1()"
   ]
  },
  {
   "cell_type": "markdown",
   "metadata": {},
   "source": [
    "## Experimenation Log\n",
    "\n",
    "Model Based\n",
    "* Using High Level APIs\n",
    "    * tf.keras functional\n",
    "* Custom layers\n",
    "* Custom models\n",
    "* Custom metrics\n",
    "* Custom loss\n",
    "* Custom activation functions\n",
    "* Custom initializers, regularizers and constants\n",
    "* Custom training loops\n",
    "* Custom gradients\n",
    "\n",
    "Data Loading\n",
    " * Tf Example\n",
    " * \n",
    "Hyperparameter Search\n"
   ]
  },
  {
   "cell_type": "markdown",
   "metadata": {},
   "source": [
    "## References\n",
    "* [Keras for Engineers](https://colab.research.google.com/drive/1lWUGZarlbORaHYUZlF9muCgpPl8pEvve)\n",
    "* [Keras for Researchers](https://colab.research.google.com/drive/169PfzM0kvtA5UP4k6Sl1yCG9tsE2MLia#scrollTo=4T2NXVLa9Cld)"
   ]
  }
 ],
 "metadata": {
  "kernelspec": {
   "display_name": "Python 3",
   "language": "python",
   "name": "python3"
  }
 },
 "nbformat": 4,
 "nbformat_minor": 2
}
