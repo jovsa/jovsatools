{
 "cells": [
  {
   "cell_type": "code",
   "execution_count": null,
   "metadata": {},
   "outputs": [],
   "source": [
    "# default_exp google_drive_activity_tracking"
   ]
  },
  {
   "cell_type": "markdown",
   "metadata": {},
   "source": [
    "# Google Activity Tacking Tools\n",
    "\n",
    "> API details."
   ]
  },
  {
   "cell_type": "code",
   "execution_count": null,
   "metadata": {},
   "outputs": [],
   "source": [
    "# export \n",
    "from nbdev.showdoc import *\n",
    "import jovsatools\n",
    "import fastcore\n",
    "import pickle\n",
    "import os.path\n",
    "from googleapiclient.discovery import build\n",
    "from google_auth_oauthlib.flow import InstalledAppFlow\n",
    "from google.auth.transport.requests import Request\n",
    "from collections import defaultdict\n",
    "import pandas as pd"
   ]
  },
  {
   "cell_type": "markdown",
   "metadata": {},
   "source": [
    "### Drive Activity Tracking"
   ]
  },
  {
   "cell_type": "markdown",
   "metadata": {},
   "source": [
    "### Step 1: \n",
    "[Download client configuration `credentials.json`](https://developers.google.com/drive/activity/v2/quickstart/python)"
   ]
  },
  {
   "cell_type": "code",
   "execution_count": null,
   "metadata": {},
   "outputs": [],
   "source": [
    "# ! cp /Users/jovan.sardinha/Downloads/credentials.json ."
   ]
  },
  {
   "cell_type": "markdown",
   "metadata": {},
   "source": [
    "### Step 2:"
   ]
  },
  {
   "cell_type": "code",
   "execution_count": null,
   "metadata": {},
   "outputs": [],
   "source": [
    "# export\n",
    "# Returns a string representation of the first elements in a list.\n",
    "def truncated(array):\n",
    "    array = list(array)        \n",
    "    contents = ', '.join(array[:])\n",
    "    return u'[{0}]'.format(contents)\n",
    "\n",
    "\n",
    "# Returns the name of a set property in an object, or else \"unknown\".\n",
    "def getOneOf(obj):\n",
    "    for key in obj:\n",
    "        return key\n",
    "    return 'unknown'\n",
    "\n",
    "\n",
    "# Returns a time associated with an activity.\n",
    "def getTimeInfo(activity):\n",
    "    if 'timestamp' in activity:\n",
    "        return activity['timestamp']\n",
    "    if 'timeRange' in activity:\n",
    "        return activity['timeRange']['endTime']\n",
    "    return 'unknown'\n",
    "\n",
    "\n",
    "# Returns the type of action.\n",
    "def getActionInfo(actionDetail):\n",
    "    return getOneOf(actionDetail)\n",
    "\n",
    "\n",
    "# Returns user information, or the type of user if not a known user.\n",
    "def getUserInfo(user):\n",
    "    if 'knownUser' in user:\n",
    "        knownUser = user['knownUser']\n",
    "        isMe = knownUser.get('isCurrentUser', False)\n",
    "        return knownUser['personName']\n",
    "    return getOneOf(user)\n",
    "\n",
    "\n",
    "# Returns actor information, or the type of actor if not a user.\n",
    "def getActorInfo(actor):\n",
    "    if 'user' in actor:\n",
    "        return getUserInfo(actor['user'])\n",
    "    return getOneOf(actor)\n",
    "\n",
    "\n",
    "# Returns the type of a target and an associated title.\n",
    "def getTargetInfo(target):\n",
    "    if 'driveItem' in target:\n",
    "        title = target['driveItem'].get('title', 'unknown')\n",
    "        return 'driveItem:\"{0}\"'.format(title)\n",
    "    if 'drive' in target:\n",
    "        title = target['drive'].get('title', 'unknown')\n",
    "        return 'drive:\"{0}\"'.format(title)\n",
    "    if 'fileComment' in target:\n",
    "        parent = target['fileComment'].get('parent', {})\n",
    "        title = parent.get('title', 'unknown')\n",
    "        return 'fileComment:\"{0}\"'.format(title)\n",
    "    return '{0}:unknown'.format(getOneOf(target))\n",
    "\n",
    "def initialize_data(feature_list):\n",
    "    data = {}\n",
    "    for feature in feature_list:\n",
    "        data[feature] = []\n",
    "    return data"
   ]
  },
  {
   "cell_type": "code",
   "execution_count": null,
   "metadata": {},
   "outputs": [],
   "source": [
    "#export\n",
    "\n",
    "# If modifying these scopes, delete the file token.pickle.\n",
    "SCOPES = ['https://www.googleapis.com/auth/drive.activity.readonly']\n",
    "\n",
    "\n",
    "def get_drive_activity(page_size, loc, debug=False):\n",
    "    \"\"\"Shows basic usage of the Drive Activity API.\n",
    "\n",
    "    Prints information about the last 10 events that occured the user's Drive.\n",
    "    \"\"\"\n",
    "    creds = None\n",
    "    # The file token.pickle stores the user's access and refresh tokens, and is\n",
    "    # created automatically when the authorization flow completes for the first\n",
    "    # time.\n",
    "    if os.path.exists('token.pickle'):\n",
    "        with open('token.pickle', 'rb') as token:\n",
    "            creds = pickle.load(token)\n",
    "    # If there are no (valid) credentials available, let the user log in.\n",
    "    if not creds or not creds.valid:\n",
    "        if creds and creds.expired and creds.refresh_token:\n",
    "            creds.refresh(Request())\n",
    "        else:\n",
    "            flow = InstalledAppFlow.from_client_secrets_file(\n",
    "                'credentials.json', SCOPES)\n",
    "            creds = flow.run_local_server(port=0)\n",
    "        # Save the credentials for the next run\n",
    "        with open('token.pickle', 'wb') as token:\n",
    "            pickle.dump(creds, token)\n",
    "\n",
    "    service = build('driveactivity', 'v2', credentials=creds)\n",
    "\n",
    "    # Call the Drive Activity API\n",
    "    results = service.activity().query(body={\n",
    "        'pageSize': page_size,\n",
    "        'ancestorName': 'items/{}'.format(loc)\n",
    "    }).execute()\n",
    "    activities = results.get('activities', [])\n",
    "        \n",
    "    if debug:\n",
    "        if not activities:\n",
    "            print('No activity.')\n",
    "        else:\n",
    "            print('Recent activity:')\n",
    "            for activity in activities:\n",
    "                time = getTimeInfo(activity)\n",
    "                action = getActionInfo(activity['primaryActionDetail'])\n",
    "                actors = map(getActorInfo, activity['actors'])\n",
    "                targets = map(getTargetInfo, activity['targets'])\n",
    "                print(u'{0}: {1}, {2}, {3}'.format(time, \n",
    "                                                   truncated(actors), \n",
    "                                                   action,\n",
    "                                                   truncated(targets)\n",
    "                                                  ))\n",
    "    \n",
    "    feature_list = ['time', 'action', 'actor', 'target']\n",
    "    data = initialize_data(feature_list)\n",
    "    for activity in activities:\n",
    "            time = getTimeInfo(activity)\n",
    "            action = getActionInfo(activity['primaryActionDetail'])\n",
    "            actors = list(map(getActorInfo, activity['actors']))\n",
    "            targets = list(map(getTargetInfo, activity['targets']))\n",
    "            \n",
    "            data['time'].append(time)\n",
    "            data['action'].append(action)\n",
    "            data['actor'].append(actors)\n",
    "            data['target'].append(targets)\n",
    "    return pd.DataFrame.from_dict(data)\n"
   ]
  },
  {
   "cell_type": "code",
   "execution_count": null,
   "metadata": {},
   "outputs": [],
   "source": [
    "#data = get_drive_activity(page_size=1000, loc='<insert_drive_id>')"
   ]
  },
  {
   "cell_type": "markdown",
   "metadata": {},
   "source": [
    "## References\n",
    "* [GDocs API Reference](https://developers.google.com/drive/activity/v2/quickstart/python)"
   ]
  },
  {
   "cell_type": "code",
   "execution_count": null,
   "metadata": {},
   "outputs": [],
   "source": []
  }
 ],
 "metadata": {
  "kernelspec": {
   "display_name": "Python 3",
   "language": "python",
   "name": "python3"
  }
 },
 "nbformat": 4,
 "nbformat_minor": 2
}
