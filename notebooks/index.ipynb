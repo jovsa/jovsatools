{
 "cells": [
  {
   "cell_type": "code",
   "execution_count": null,
   "metadata": {},
   "outputs": [],
   "source": [
    "#hide\n",
    "from nbdev.showdoc import *"
   ]
  },
  {
   "cell_type": "markdown",
   "metadata": {},
   "source": [
    "# jsmltools\n",
    "\n",
    "> my personal toolbox 🧰"
   ]
  },
  {
   "cell_type": "markdown",
   "metadata": {},
   "source": [
    "### Usefull Links\n",
    "[Design document](jovsa.github.io/jsmltools/design_document/): outlines the choices, condiderations and tradeoffs made \n",
    "\n",
    "[Usefull commands](https://github.com/jovsa/jsmltools/blob/master/Makefile): when running things locally"
   ]
  }
 ],
 "metadata": {
  "kernelspec": {
   "display_name": "Python 3",
   "language": "python",
   "name": "python3"
  }
 },
 "nbformat": 4,
 "nbformat_minor": 2
}
