{
 "cells": [
  {
   "cell_type": "code",
   "execution_count": null,
   "metadata": {},
   "outputs": [],
   "source": [
    "#hide\n",
    "from nbdev.showdoc import *"
   ]
  },
  {
   "cell_type": "markdown",
   "metadata": {},
   "source": [
    "# jovsatools\n",
    "\n",
    "> my personal toolbox 🧰"
   ]
  },
  {
   "cell_type": "code",
   "execution_count": null,
   "metadata": {},
   "outputs": [],
   "source": []
  },
  {
   "cell_type": "markdown",
   "metadata": {},
   "source": [
    "### Usefull Links\n",
    "* [Design document](jovsa.github.io/jsmltools/design_document/): outlines the choices, condiderations and tradeoffs made \n",
    "\n",
    "* [Usefull commands](https://github.com/jovsa/jsmltools/blob/master/Makefile): when running things locally\n",
    "\n",
    "* Link to [documentation](https://jovsa.github.io/jovsatools)\n",
    "\n",
    "* Link to [notebooks](https://github.com/jovsa/jovsatools/tree/master/notebooks)\n",
    "\n",
    "### FAQ\n",
    "* What to get started? [look here](https://github.com/jovsa/jovsatools/blob/master/CONTRIBUTING.md#do-you-want-to-contribute-to-the-documentation)\n",
    "\n",
    "* Found bugs🐛? [look here](https://github.com/jovsa/jovsatools/blob/master/CONTRIBUTING.md#did-you-find-a-bug)\n",
    "\n",
    "* Have ideas? [more information here](https://github.com/jovsa/jovsatools/blob/master/CONTRIBUTING.md#pr-submission-guidelines)\n",
    "\n",
    "* Known bugs🕸️: There are some documentation rendering issues. Please go to the notebooks directly in such cases."
   ]
  },
  {
   "cell_type": "markdown",
   "metadata": {},
   "source": [
    "[🔮](https://jovsa.github.io/)"
   ]
  }
 ],
 "metadata": {
  "kernelspec": {
   "display_name": "Python 3",
   "language": "python",
   "name": "python3"
  }
 },
 "nbformat": 4,
 "nbformat_minor": 2
}
