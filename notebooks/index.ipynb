{
 "cells": [
  {
   "cell_type": "code",
   "execution_count": null,
   "metadata": {},
   "outputs": [],
   "source": [
    "#hide\n",
    "from jsmltools import hello_nbdev"
   ]
  },
  {
   "cell_type": "markdown",
   "metadata": {},
   "source": [
    "# jsmltools\n",
    "\n",
    "> learning -> production"
   ]
  },
  {
   "cell_type": "markdown",
   "metadata": {},
   "source": [
    "## Background\n",
    "* SCQ\n",
    "* [my physical notes on this](https://photos.app.goo.gl/yaggyEt4fdD52Xw6A)\n",
    "* everthing will be WIP (by definition)"
   ]
  },
  {
   "cell_type": "markdown",
   "metadata": {},
   "source": [
    "## Goals\n",
    "* Compounding effects with learning/exeprimentation\n",
    "    * (open ?): How to track? Is it worth tracking?\n",
    "* Quick portability\n",
    "    * for sandboxing\n",
    "    * so this becomes the canonical repo for experimentation/learning\n",
    "* Multi-domain compatibity\n",
    "* Incrementability\n",
    "    * Don't want to spend too much time on `setup` and `boilerplate`\n",
    "    * Allow for quick ideas/initial exploration to stable APIs to co-exist"
   ]
  },
  {
   "cell_type": "markdown",
   "metadata": {},
   "source": [
    "## Design Choices\n",
    "* Using [nbdev](https://github.com/fastai/nbdev) as a base structure\n",
    "    * (+) Will use this to get something off the ground. However, will not tie too deeply into this strcuture (if I need to swap this out).\n",
    "    * (+) Nice literate env\n",
    "    * (+) Get PyPI functionality out of the box\n",
    "    * (+) Get docs functionality out of the box\n",
    "    * (+) Get unit test functionality out of the box\n",
    "    * (-) Might need to contribute to nbdev to add functionality\n",
    "        * (mitigation) clone an internal verison of nbdev\n",
    "        * (mitigation) write all non-supported use case directly in the `lib` folder\n",
    "* Monolithical git repo\n",
    "    * (+) Will allow for incrementability\n",
    "    * (+) Will become canonical place with experimentation/learning will happen. This will help with compounding learning/experimentation speed.\n",
    "    * (-) Will enentually get hard to maintain?\n",
    "        * (mitigation) things don't have a lot of deps will eventually fall out/depricate\n",
    "    * (-) >0 startup time\n",
    "* Lack of structure\n",
    "    * (+) [Hyrum's Law](https://www.hyrumslaw.com/)\n",
    "    * (-) hard for others to understand/follow\n",
    "        * (migtigation) build tools to show dependency\n",
    "    * (+) allow for \n",
    "* [Progressive disclosure of complexity](https://twitter.com/fchollet/status/1231285340335267840)\n",
    "    * (+) easy to start\n",
    "    * (+) allow for rough initial ideas to stable APIs to co-exist\n",
    "    * (-) A lot of extra work needed to trace dependencies\n",
    "        * (mitigation) build better tools to view dependencies\n",
    "* Multi-language/multi-framework/multi-domain support.\n",
    "    * (+) This becomes the canonical repo for learning/experimentation.\n",
    "    * (-) Only python will be used in notebooks (for now and because of nbdev limitation).\n",
    "        * (mitigation): write all non-supported use case directly in the `lib` folder."
   ]
  },
  {
   "cell_type": "markdown",
   "metadata": {},
   "source": [
    "## Refrences\n",
    "\n",
    "* https://notes.andymatuschak.org/\n",
    "    * Metacognitive supports as cognitive scaffolding\n",
    "        * by contraint and blog by narritive\n",
    "    * [Incremental Writing](https://supermemo.guru/wiki/Incremental_writing)\n",
    "    * Notes to APIs\n",
    "    * Exponential growth to learn\n",
    "    * Cross-decipline encouragement\n"
   ]
  },
  {
   "cell_type": "code",
   "execution_count": null,
   "metadata": {},
   "outputs": [],
   "source": []
  }
 ],
 "metadata": {
  "kernelspec": {
   "display_name": "Python 3",
   "language": "python",
   "name": "python3"
  }
 },
 "nbformat": 4,
 "nbformat_minor": 2
}
